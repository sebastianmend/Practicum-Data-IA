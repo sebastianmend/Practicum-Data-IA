{
 "cells": [
  {
   "cell_type": "markdown",
   "id": "851412bb",
   "metadata": {},
   "source": [
    "# Análisis Exploratorio para Homologación de Carreras Universitarias\n",
    "\n",
    "Este cuaderno forma parte del desarrollo del Reto 01 del Prácticum Data & IA 2025 de la UTPL.  \n",
    "El objetivo es diseñar una solución de inteligencia de negocios que permita identificar carreras similares entre universidades ecuatorianas y la UTPL, incluso si los nombres no coinciden exactamente.\n",
    "\n",
    "Este notebook se encargará inicialmente del **análisis exploratorio de datos (EDA)** del archivo `base-datos-abiertos_oferta-academica_05022025.xlsx`. A partir de este análisis se determinará la mejor estrategia de emparejamiento semántico y visualización.\n",
    "\n",
    "En futuras fases, este notebook actuará como **orquestador principal** de una arquitectura basada en microservicios, ejecutando módulos externos (`.py`) para preprocesamiento, modelado y análisis semántico.\n",
    "\n",
    "---\n",
    "### 🗂 Estructura del notebook:\n",
    "\n",
    "1. **Carga de librerías y configuración del entorno**\n",
    "2. **Carga del archivo fuente**\n",
    "3. **Exploración básica del dataset**\n",
    "4. **Limpieza inicial de columnas irrelevantes y valores nulos**\n",
    "5. **Análisis exploratorio por variables clave**\n",
    "6. **Detección de columnas útiles para el matching semántico**\n",
    "7. **Planificación de módulos externos**"
   ]
  },
  {
   "cell_type": "code",
   "execution_count": 2,
   "id": "d944e897",
   "metadata": {},
   "outputs": [
    {
     "name": "stdout",
     "output_type": "stream",
     "text": [
      "Entorno EDA inicial cargado correctamente ✅\n"
     ]
    }
   ],
   "source": [
    "# Librerías principales\n",
    "import pandas as pd\n",
    "import numpy as np\n",
    "import matplotlib.pyplot as plt\n",
    "import seaborn as sns\n",
    "import os\n",
    "\n",
    "# Configuración visual y de entorno\n",
    "sns.set(style=\"whitegrid\")\n",
    "pd.set_option('display.max_columns', 100)\n",
    "%matplotlib inline\n",
    "\n",
    "# Confirmación de entorno\n",
    "print(\"Entorno EDA inicial cargado correctamente ✅\")\n"
   ]
  },
  {
   "cell_type": "code",
   "execution_count": 6,
   "id": "aa696b53",
   "metadata": {},
   "outputs": [
    {
     "name": "stdout",
     "output_type": "stream",
     "text": [
      "✅ Dimensiones del archivo: (20045, 10)\n"
     ]
    },
    {
     "data": {
      "text/html": [
       "<div>\n",
       "<style scoped>\n",
       "    .dataframe tbody tr th:only-of-type {\n",
       "        vertical-align: middle;\n",
       "    }\n",
       "\n",
       "    .dataframe tbody tr th {\n",
       "        vertical-align: top;\n",
       "    }\n",
       "\n",
       "    .dataframe thead th {\n",
       "        text-align: right;\n",
       "    }\n",
       "</style>\n",
       "<table border=\"1\" class=\"dataframe\">\n",
       "  <thead>\n",
       "    <tr style=\"text-align: right;\">\n",
       "      <th></th>\n",
       "      <th>NOMBRE_IES</th>\n",
       "      <th>TIPO_IES</th>\n",
       "      <th>TIPO_FINANCIAMIENTO</th>\n",
       "      <th>NOMBRE_CARRERA</th>\n",
       "      <th>CAMPO_AMPLIO</th>\n",
       "      <th>NIVEL_FORMACIÓN</th>\n",
       "      <th>MODALIDAD</th>\n",
       "      <th>PROVINCIA</th>\n",
       "      <th>CANTÓN</th>\n",
       "      <th>ESTADO</th>\n",
       "    </tr>\n",
       "  </thead>\n",
       "  <tbody>\n",
       "    <tr>\n",
       "      <th>0</th>\n",
       "      <td>ESCUELA POLITECNICA NACIONAL</td>\n",
       "      <td>UNIVERSIDAD</td>\n",
       "      <td>PÚBLICA</td>\n",
       "      <td>INGENIERIA AGROINDUSTRIAL</td>\n",
       "      <td>AGRICULTURA</td>\n",
       "      <td>TERCER NIVEL O PREGRADO</td>\n",
       "      <td>PRESENCIAL</td>\n",
       "      <td>PICHINCHA</td>\n",
       "      <td>QUITO</td>\n",
       "      <td>NO VIGENTE HABILITADO PARA REGISTRO DE TÍTULOS</td>\n",
       "    </tr>\n",
       "    <tr>\n",
       "      <th>1</th>\n",
       "      <td>ESCUELA POLITECNICA NACIONAL</td>\n",
       "      <td>UNIVERSIDAD</td>\n",
       "      <td>PÚBLICA</td>\n",
       "      <td>INGENIERIA EN CIENCIAS ECONOMICAS Y FINANCIERAS</td>\n",
       "      <td>CIENCIAS SOCIALES, EDUCACION COMERCIAL Y DERECHO</td>\n",
       "      <td>TERCER NIVEL O PREGRADO</td>\n",
       "      <td>PRESENCIAL</td>\n",
       "      <td>PICHINCHA</td>\n",
       "      <td>QUITO</td>\n",
       "      <td>NO VIGENTE HABILITADO PARA REGISTRO DE TÍTULOS</td>\n",
       "    </tr>\n",
       "    <tr>\n",
       "      <th>2</th>\n",
       "      <td>ESCUELA POLITECNICA NACIONAL</td>\n",
       "      <td>UNIVERSIDAD</td>\n",
       "      <td>PÚBLICA</td>\n",
       "      <td>INGENIERIA EN ELECTRONICA Y REDES DE INFORMACION</td>\n",
       "      <td>INGENIERIA, INDUSTRIA Y CONSTRUCCION</td>\n",
       "      <td>TERCER NIVEL O PREGRADO</td>\n",
       "      <td>PRESENCIAL</td>\n",
       "      <td>PICHINCHA</td>\n",
       "      <td>QUITO</td>\n",
       "      <td>NO VIGENTE HABILITADO PARA REGISTRO DE TÍTULOS</td>\n",
       "    </tr>\n",
       "    <tr>\n",
       "      <th>3</th>\n",
       "      <td>ESCUELA POLITECNICA NACIONAL</td>\n",
       "      <td>UNIVERSIDAD</td>\n",
       "      <td>PÚBLICA</td>\n",
       "      <td>INGENIERIA EN SISTEMAS INFORMATICOS Y DE COMPU...</td>\n",
       "      <td>CIENCIAS</td>\n",
       "      <td>TERCER NIVEL O PREGRADO</td>\n",
       "      <td>PRESENCIAL</td>\n",
       "      <td>PICHINCHA</td>\n",
       "      <td>QUITO</td>\n",
       "      <td>NO VIGENTE HABILITADO PARA REGISTRO DE TÍTULOS</td>\n",
       "    </tr>\n",
       "    <tr>\n",
       "      <th>4</th>\n",
       "      <td>ESCUELA POLITECNICA NACIONAL</td>\n",
       "      <td>UNIVERSIDAD</td>\n",
       "      <td>PÚBLICA</td>\n",
       "      <td>INGENIERIA INFORMATICA</td>\n",
       "      <td>CIENCIAS</td>\n",
       "      <td>TERCER NIVEL O PREGRADO</td>\n",
       "      <td>PRESENCIAL</td>\n",
       "      <td>PICHINCHA</td>\n",
       "      <td>QUITO</td>\n",
       "      <td>NO VIGENTE HABILITADO PARA REGISTRO DE TÍTULOS</td>\n",
       "    </tr>\n",
       "  </tbody>\n",
       "</table>\n",
       "</div>"
      ],
      "text/plain": [
       "                     NOMBRE_IES     TIPO_IES TIPO_FINANCIAMIENTO  \\\n",
       "0  ESCUELA POLITECNICA NACIONAL  UNIVERSIDAD             PÚBLICA   \n",
       "1  ESCUELA POLITECNICA NACIONAL  UNIVERSIDAD             PÚBLICA   \n",
       "2  ESCUELA POLITECNICA NACIONAL  UNIVERSIDAD             PÚBLICA   \n",
       "3  ESCUELA POLITECNICA NACIONAL  UNIVERSIDAD             PÚBLICA   \n",
       "4  ESCUELA POLITECNICA NACIONAL  UNIVERSIDAD             PÚBLICA   \n",
       "\n",
       "                                      NOMBRE_CARRERA  \\\n",
       "0                          INGENIERIA AGROINDUSTRIAL   \n",
       "1    INGENIERIA EN CIENCIAS ECONOMICAS Y FINANCIERAS   \n",
       "2   INGENIERIA EN ELECTRONICA Y REDES DE INFORMACION   \n",
       "3  INGENIERIA EN SISTEMAS INFORMATICOS Y DE COMPU...   \n",
       "4                             INGENIERIA INFORMATICA   \n",
       "\n",
       "                                       CAMPO_AMPLIO          NIVEL_FORMACIÓN  \\\n",
       "0                                       AGRICULTURA  TERCER NIVEL O PREGRADO   \n",
       "1  CIENCIAS SOCIALES, EDUCACION COMERCIAL Y DERECHO  TERCER NIVEL O PREGRADO   \n",
       "2              INGENIERIA, INDUSTRIA Y CONSTRUCCION  TERCER NIVEL O PREGRADO   \n",
       "3                                          CIENCIAS  TERCER NIVEL O PREGRADO   \n",
       "4                                          CIENCIAS  TERCER NIVEL O PREGRADO   \n",
       "\n",
       "    MODALIDAD  PROVINCIA CANTÓN  \\\n",
       "0  PRESENCIAL  PICHINCHA  QUITO   \n",
       "1  PRESENCIAL  PICHINCHA  QUITO   \n",
       "2  PRESENCIAL  PICHINCHA  QUITO   \n",
       "3  PRESENCIAL  PICHINCHA  QUITO   \n",
       "4  PRESENCIAL  PICHINCHA  QUITO   \n",
       "\n",
       "                                           ESTADO  \n",
       "0  NO VIGENTE HABILITADO PARA REGISTRO DE TÍTULOS  \n",
       "1  NO VIGENTE HABILITADO PARA REGISTRO DE TÍTULOS  \n",
       "2  NO VIGENTE HABILITADO PARA REGISTRO DE TÍTULOS  \n",
       "3  NO VIGENTE HABILITADO PARA REGISTRO DE TÍTULOS  \n",
       "4  NO VIGENTE HABILITADO PARA REGISTRO DE TÍTULOS  "
      ]
     },
     "execution_count": 6,
     "metadata": {},
     "output_type": "execute_result"
    }
   ],
   "source": [
    "# Cargar el archivo Excel omitiendo las filas superiores informativas\n",
    "df = pd.read_excel(\"base-datos-abiertos_oferta-academica_05022025.xlsx\", skiprows=13)\n",
    "\n",
    "# Confirmar lectura\n",
    "print(f\"✅ Dimensiones del archivo: {df.shape}\")\n",
    "df.head()\n"
   ]
  },
  {
   "cell_type": "code",
   "execution_count": 11,
   "id": "965bb2af",
   "metadata": {},
   "outputs": [
    {
     "name": "stdout",
     "output_type": "stream",
     "text": [
      "🧾 Columnas disponibles:\n",
      "['NOMBRE_IES', 'TIPO_IES', 'TIPO_FINANCIAMIENTO', 'NOMBRE_CARRERA', 'CAMPO_AMPLIO', 'NIVEL_FORMACIÓN', 'MODALIDAD', 'PROVINCIA', 'CANTÓN', 'ESTADO']\n",
      "\n",
      "📌 Tipos de datos:\n",
      "NOMBRE_IES             object\n",
      "TIPO_IES               object\n",
      "TIPO_FINANCIAMIENTO    object\n",
      "NOMBRE_CARRERA         object\n",
      "CAMPO_AMPLIO           object\n",
      "NIVEL_FORMACIÓN        object\n",
      "MODALIDAD              object\n",
      "PROVINCIA              object\n",
      "CANTÓN                 object\n",
      "ESTADO                 object\n",
      "dtype: object\n",
      "\n",
      "🔎 Valores únicos por columna (resumen):\n",
      "NOMBRE_IES: 292 únicos\n",
      "TIPO_IES: 2 únicos\n",
      "TIPO_FINANCIAMIENTO: 4 únicos\n",
      "NOMBRE_CARRERA: 5715 únicos\n",
      "CAMPO_AMPLIO: 23 únicos\n",
      "NIVEL_FORMACIÓN: 7 únicos\n",
      "MODALIDAD: 8 únicos\n",
      "PROVINCIA: 24 únicos\n",
      "CANTÓN: 179 únicos\n",
      "ESTADO: 3 únicos\n"
     ]
    }
   ],
   "source": [
    "# Verificar nombres de columnas y tipos\n",
    "print(\"🧾 Columnas disponibles:\")\n",
    "print(df.columns.tolist())\n",
    "\n",
    "print(\"\\n📌 Tipos de datos:\")\n",
    "print(df.dtypes)\n",
    "\n",
    "# Verificar valores únicos por columna\n",
    "print(\"\\n🔎 Valores únicos por columna (resumen):\")\n",
    "for col in df.columns:\n",
    "    print(f\"{col}: {df[col].nunique()} únicos\")\n"
   ]
  },
  {
   "cell_type": "code",
   "execution_count": 17,
   "id": "f5c8b8b7",
   "metadata": {},
   "outputs": [
    {
     "name": "stdout",
     "output_type": "stream",
     "text": [
      "🔍 Columnas disponibles:\n",
      "['NOMBRE_IES', 'TIPO_IES', 'TIPO_FINANCIAMIENTO', 'NOMBRE_CARRERA', 'CAMPO_AMPLIO', 'NIVEL_FORMACIÓN', 'MODALIDAD', 'PROVINCIA', 'CANTÓN', 'ESTADO']\n",
      "<class 'pandas.core.frame.DataFrame'>\n",
      "RangeIndex: 20045 entries, 0 to 20044\n",
      "Data columns (total 10 columns):\n",
      " #   Column               Non-Null Count  Dtype \n",
      "---  ------               --------------  ----- \n",
      " 0   NOMBRE_IES           20044 non-null  object\n",
      " 1   TIPO_IES             20044 non-null  object\n",
      " 2   TIPO_FINANCIAMIENTO  20045 non-null  object\n",
      " 3   NOMBRE_CARRERA       20045 non-null  object\n",
      " 4   CAMPO_AMPLIO         20045 non-null  object\n",
      " 5   NIVEL_FORMACIÓN      20045 non-null  object\n",
      " 6   MODALIDAD            20045 non-null  object\n",
      " 7   PROVINCIA            20045 non-null  object\n",
      " 8   CANTÓN               20045 non-null  object\n",
      " 9   ESTADO               20045 non-null  object\n",
      "dtypes: object(10)\n",
      "memory usage: 1.5+ MB\n",
      "\n",
      "📉 Porcentaje de nulos por columna:\n",
      "NOMBRE_IES             0.0\n",
      "TIPO_IES               0.0\n",
      "TIPO_FINANCIAMIENTO    0.0\n",
      "NOMBRE_CARRERA         0.0\n",
      "CAMPO_AMPLIO           0.0\n",
      "NIVEL_FORMACIÓN        0.0\n",
      "MODALIDAD              0.0\n",
      "PROVINCIA              0.0\n",
      "CANTÓN                 0.0\n",
      "ESTADO                 0.0\n",
      "dtype: float64\n"
     ]
    }
   ],
   "source": [
    "# Nombres de columnas\n",
    "print(\"🔍 Columnas disponibles:\")\n",
    "print(df.columns.tolist())\n",
    "\n",
    "# Tipos de datos\n",
    "df.info()\n",
    "\n",
    "# Valores nulos\n",
    "print(\"\\n📉 Porcentaje de nulos por columna:\")\n",
    "print(df.isnull().mean().round(3) * 100)\n"
   ]
  },
  {
   "cell_type": "code",
   "execution_count": 21,
   "id": "9bb4b373",
   "metadata": {},
   "outputs": [
    {
     "name": "stdout",
     "output_type": "stream",
     "text": [
      "\n",
      "📛 Duplicados exactos: 0\n",
      "<class 'pandas.core.frame.DataFrame'>\n",
      "RangeIndex: 20045 entries, 0 to 20044\n",
      "Data columns (total 10 columns):\n",
      " #   Column               Non-Null Count  Dtype \n",
      "---  ------               --------------  ----- \n",
      " 0   NOMBRE_IES           20044 non-null  object\n",
      " 1   TIPO_IES             20044 non-null  object\n",
      " 2   TIPO_FINANCIAMIENTO  20045 non-null  object\n",
      " 3   NOMBRE_CARRERA       20045 non-null  object\n",
      " 4   CAMPO_AMPLIO         20045 non-null  object\n",
      " 5   NIVEL_FORMACIÓN      20045 non-null  object\n",
      " 6   MODALIDAD            20045 non-null  object\n",
      " 7   PROVINCIA            20045 non-null  object\n",
      " 8   CANTÓN               20045 non-null  object\n",
      " 9   ESTADO               20045 non-null  object\n",
      "dtypes: object(10)\n",
      "memory usage: 1.5+ MB\n"
     ]
    }
   ],
   "source": [
    "# Copia de respaldo por seguridad\n",
    "df_raw = df.copy()\n",
    "\n",
    "# Normalización de texto para consistencia\n",
    "for col in df.select_dtypes(include='object').columns:\n",
    "    df[col] = df[col].str.strip().str.lower()\n",
    "\n",
    "# Verificamos si hay duplicados exactos\n",
    "print(f\"\\n📛 Duplicados exactos: {df.duplicated().sum()}\")\n",
    "\n",
    "df.info()\n"
   ]
  },
  {
   "cell_type": "code",
   "execution_count": 23,
   "id": "3ce8e9a5",
   "metadata": {},
   "outputs": [
    {
     "name": "stderr",
     "output_type": "stream",
     "text": [
      "C:\\Users\\Usuario\\AppData\\Local\\Temp\\ipykernel_6812\\1200827485.py:5: FutureWarning: \n",
      "\n",
      "Passing `palette` without assigning `hue` is deprecated and will be removed in v0.14.0. Assign the `y` variable to `hue` and set `legend=False` for the same effect.\n",
      "\n",
      "  sns.barplot(x=top_ies.values, y=top_ies.index, palette=\"Blues_r\")\n"
     ]
    },
    {
     "data": {
      "image/png": "[encoded data removed]",
      "text/plain": [
       "<Figure size 1200x500 with 1 Axes>"
      ]
     },
     "metadata": {},
     "output_type": "display_data"
    }
   ],
   "source": [
    "# Universidades con más carreras\n",
    "top_ies = df['NOMBRE_IES'].value_counts().head(10)\n",
    "\n",
    "plt.figure(figsize=(12,5))\n",
    "sns.barplot(x=top_ies.values, y=top_ies.index, palette=\"Blues_r\")\n",
    "plt.title(\"Top 10 instituciones con más carreras registradas\")\n",
    "plt.xlabel(\"Cantidad de carreras\")\n",
    "plt.ylabel(\"IES\")\n",
    "plt.tight_layout()\n",
    "plt.show()\n"
   ]
  }
 ],
 "metadata": {
  "kernelspec": {
   "display_name": "env",
   "language": "python",
   "name": "python3"
  },
  "language_info": {
   "codemirror_mode": {
    "name": "ipython",
    "version": 3
   },
   "file_extension": ".py",
   "mimetype": "text/x-python",
   "name": "python",
   "nbconvert_exporter": "python",
   "pygments_lexer": "ipython3",
   "version": "3.10.0"
  }
 },
 "nbformat": 4,
 "nbformat_minor": 5
}
